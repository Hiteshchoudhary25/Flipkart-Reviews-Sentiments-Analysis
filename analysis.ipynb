{
 "cells": [
  {
   "cell_type": "markdown",
   "id": "2dc10875",
   "metadata": {},
   "source": [
    "# Flipkart Reviews Sentiment Analysis using Python"
   ]
  },
  {
   "cell_type": "markdown",
   "id": "138fd05b",
   "metadata": {},
   "source": []
  }
 ],
 "metadata": {
  "language_info": {
   "name": "python"
  }
 },
 "nbformat": 4,
 "nbformat_minor": 5
}
